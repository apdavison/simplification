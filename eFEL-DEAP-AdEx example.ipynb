{
 "cells": [
  {
   "cell_type": "markdown",
   "metadata": {},
   "source": [
    "# Experiments with eFEL and DEAP"
   ]
  },
  {
   "cell_type": "code",
   "execution_count": 1,
   "metadata": {
    "collapsed": false
   },
   "outputs": [],
   "source": [
    "import efel\n",
    "import numpy as np\n",
    "from quantities import mV"
   ]
  },
  {
   "cell_type": "markdown",
   "metadata": {},
   "source": [
    "We are going to fit the AdEx model to a recording from a NEURON model of a L5 pyramidal neuron"
   ]
  },
  {
   "cell_type": "code",
   "execution_count": 2,
   "metadata": {
    "collapsed": true
   },
   "outputs": [],
   "source": [
    "data_original_model = np.loadtxt(\"L5_TTPC1_cADpyr232_1/python_recordings/soma_voltage_step1.dat\")"
   ]
  },
  {
   "cell_type": "code",
   "execution_count": 3,
   "metadata": {
    "collapsed": false
   },
   "outputs": [],
   "source": [
    "time_orig, voltage_orig = data_original_model.T"
   ]
  },
  {
   "cell_type": "code",
   "execution_count": 4,
   "metadata": {
    "collapsed": true
   },
   "outputs": [],
   "source": [
    "%matplotlib inline\n",
    "import matplotlib.pyplot as plt"
   ]
  },
  {
   "cell_type": "code",
   "execution_count": 5,
   "metadata": {
    "collapsed": false
   },
   "outputs": [],
   "source": [
    "def plot(times, vm, label=None):\n",
    "    if label is None:\n",
    "        plt.plot(times, vm)\n",
    "    else:\n",
    "        plt.plot(times, vm, label=label)\n",
    "    plt.xlabel(\"Time (ms)\")\n",
    "    plt.ylabel(\"Membrane potential (mV)\")"
   ]
  },
  {
   "cell_type": "code",
   "execution_count": 6,
   "metadata": {
    "collapsed": false
   },
   "outputs": [
    {
     "data": {
      "image/png": "[encoded data removed]",
      "text/plain": [
       "<matplotlib.figure.Figure at 0x7fed97c4c7d0>"
      ]
     },
     "metadata": {},
     "output_type": "display_data"
    }
   ],
   "source": [
    "plot(time_orig, voltage_orig)"
   ]
  },
  {
   "cell_type": "markdown",
   "metadata": {},
   "source": [
    "## Experiment with features"
   ]
  },
  {
   "cell_type": "markdown",
   "metadata": {},
   "source": [
    "We are going to construct the error function using features extracted from the membrane potential trace and spike times using the [eFEL](http://bluebrain.github.io/eFEL/index.html) library."
   ]
  },
  {
   "cell_type": "code",
   "execution_count": 7,
   "metadata": {
    "collapsed": true
   },
   "outputs": [],
   "source": [
    "def features(time, voltage, stim_limits, feature_names):\n",
    "    start, end = stim_limits\n",
    "    traces = [{'T': time, 'V': voltage, 'stim_start': [start], 'stim_end': [end]}]\n",
    "    return efel.getFeatureValues(traces, feature_names)"
   ]
  },
  {
   "cell_type": "code",
   "execution_count": 8,
   "metadata": {
    "collapsed": false
   },
   "outputs": [],
   "source": [
    "features_original_model = features(time_orig, voltage_orig, (700, 2700),\n",
    "                                   ['AP_amplitude', 'voltage_base', 'inv_time_to_first_spike', 'inv_first_ISI',\n",
    "                                    'Spikecount', 'AHP_depth', 'AHP_time_from_peak'])"
   ]
  },
  {
   "cell_type": "code",
   "execution_count": 9,
   "metadata": {
    "collapsed": false
   },
   "outputs": [
    {
     "name": "stdout",
     "output_type": "stream",
     "text": [
      "AHP_time_from_peak: 18.3, 28.6, 29.8, 30.3, 30.7, 30.9, 31.0, 31.1, 31.1, 31.1, 31.1\n",
      "AP_amplitude: 81.5437389021, 81.2920764068, 79.0358741728, 80.632283557, 80.4897410551, 81.5640124012, 78.7547618917, 78.6477627325, 79.0617444436, 78.4025297162, 81.7544523757\n",
      "inv_time_to_first_spike: 15.197568389\n",
      "voltage_base: -84.136625486\n",
      "AHP_depth: 22.0301376167, 20.3554446575, 20.7302351123, 21.035748625, 21.2414029346, 21.3815948063, 21.4786448943, 21.5469639876, 21.5960152492, 21.6319214565, 21.6586806342\n",
      "Spikecount: 11\n",
      "inv_first_ISI: 8.43170320405\n"
     ]
    }
   ],
   "source": [
    "for trace_results in features_original_model:\n",
    "    # trace_result is a dictionary, with as keys the requested eFeatures\n",
    "    for feature_name, feature_values in trace_results.items():\n",
    "        print(\"%s: %s\" % (feature_name, ', '.join([str(x) for x in feature_values])))"
   ]
  },
  {
   "cell_type": "code",
   "execution_count": 10,
   "metadata": {
    "collapsed": false
   },
   "outputs": [
    {
     "data": {
      "text/plain": [
       "[{'AHP_depth': array([ 22.03013762,  20.35544466,  20.73023511,  21.03574862,\n",
       "          21.24140293,  21.38159481,  21.47864489,  21.54696399,\n",
       "          21.59601525,  21.63192146,  21.65868063]),\n",
       "  'AHP_time_from_peak': array([ 18.3,  28.6,  29.8,  30.3,  30.7,  30.9,  31. ,  31.1,  31.1,\n",
       "          31.1,  31.1]),\n",
       "  'AP_amplitude': array([ 81.5437389 ,  81.29207641,  79.03587417,  80.63228356,\n",
       "          80.48974106,  81.5640124 ,  78.75476189,  78.64776273,\n",
       "          79.06174444,  78.40252972,  81.75445238]),\n",
       "  'Spikecount': array([11]),\n",
       "  'inv_first_ISI': array([ 8.4317032]),\n",
       "  'inv_time_to_first_spike': array([ 15.19756839]),\n",
       "  'voltage_base': array([-84.13662549])}]"
      ]
     },
     "execution_count": 10,
     "metadata": {},
     "output_type": "execute_result"
    }
   ],
   "source": [
    "features_original_model"
   ]
  },
  {
   "cell_type": "markdown",
   "metadata": {},
   "source": [
    "## Setup AdEx simulation"
   ]
  },
  {
   "cell_type": "code",
   "execution_count": 11,
   "metadata": {
    "collapsed": false
   },
   "outputs": [],
   "source": [
    "import pyNN.nest as sim"
   ]
  },
  {
   "cell_type": "code",
   "execution_count": 12,
   "metadata": {
    "collapsed": true
   },
   "outputs": [],
   "source": [
    "def setup_simulation(sim):\n",
    "    sim.setup(timestep=0.1)\n",
    "    hyp_amp, step_amp = (-0.247559, (0.55425, 0.6004375, 0.646625))\n",
    "    cell = sim.Population(1, sim.EIF_cond_exp_isfa_ista(i_offset=hyp_amp))\n",
    "    cell.record(('spikes', 'v'))\n",
    "    stim = sim.DCSource(start=700, stop=2700, amplitude=step_amp[0])\n",
    "    stim.inject_into(cell)\n",
    "    return cell"
   ]
  },
  {
   "cell_type": "code",
   "execution_count": 13,
   "metadata": {
    "collapsed": false
   },
   "outputs": [
    {
     "name": "stdout",
     "output_type": "stream",
     "text": [
      "/home/docker/env/neurosci/local/lib/python2.7/site-packages/nest/lib/hl_api_helper.py:61: UserWarning: \n",
      "DivergentConnect is deprecated and will be removed in a future version of NEST.\n",
      "Please use Connect instead!\n",
      "For details, see http://www.nest-simulator.org/connection_management                       \n"
     ]
    }
   ],
   "source": [
    "cell = setup_simulation(sim)"
   ]
  },
  {
   "cell_type": "code",
   "execution_count": 14,
   "metadata": {
    "collapsed": true
   },
   "outputs": [],
   "source": [
    "def run(sim, cell, parameters):\n",
    "    sim.reset()\n",
    "    cell.set(**parameters)\n",
    "    sim.run(3000.0)\n",
    "    data = cell.get_data(clear=True).segments[0]\n",
    "    vm = data.filter(name='v')[0]\n",
    "    spike_times = data.spiketrains[0]\n",
    "    return vm, spike_times"
   ]
  },
  {
   "cell_type": "code",
   "execution_count": 15,
   "metadata": {
    "collapsed": false
   },
   "outputs": [],
   "source": [
    "vm, spike_times = run(sim, cell, {'tau_m': 20.0, 'v_rest': -70.0})"
   ]
  },
  {
   "cell_type": "code",
   "execution_count": 16,
   "metadata": {
    "collapsed": false
   },
   "outputs": [],
   "source": [
    "spike_indices = (spike_times/vm.sampling_period).magnitude.astype(int)\n",
    "vm[spike_indices] = 0.0*mV"
   ]
  },
  {
   "cell_type": "code",
   "execution_count": 17,
   "metadata": {
    "collapsed": false
   },
   "outputs": [
    {
     "data": {
      "image/png": "[encoded data removed]",
      "text/plain": [
       "<matplotlib.figure.Figure at 0x7fed8b13b510>"
      ]
     },
     "metadata": {},
     "output_type": "display_data"
    }
   ],
   "source": [
    "plot(vm.times, vm)"
   ]
  },
  {
   "cell_type": "code",
   "execution_count": 18,
   "metadata": {
    "collapsed": true
   },
   "outputs": [],
   "source": [
    "features_adexp = features(vm.times, vm, (700, 2700),\n",
    "                          ['voltage_base', 'inv_time_to_first_spike', 'inv_first_ISI',\n",
    "                           'Spikecount', 'AHP_depth', 'AHP_time_from_peak'])"
   ]
  },
  {
   "cell_type": "code",
   "execution_count": 19,
   "metadata": {
    "collapsed": false
   },
   "outputs": [
    {
     "name": "stdout",
     "output_type": "stream",
     "text": [
      "AHP_time_from_peak: 0.1\n",
      "inv_time_to_first_spike: 19.4174757281\n",
      "voltage_base: -83.7270313513\n",
      "AHP_depth: 13.2187737193\n",
      "Spikecount: 1\n",
      "inv_first_ISI: 0.0\n"
     ]
    }
   ],
   "source": [
    "for trace_results in features_adexp:\n",
    "    # trace_result is a dictionary, with as keys the requested eFeatures\n",
    "    for feature_name, feature_values in trace_results.items():\n",
    "        if feature_values is None:\n",
    "            print \"%s: error\" % feature_name\n",
    "        else:\n",
    "            print \"%s: %s\" % (feature_name, ', '.join([str(x) for x in feature_values]))"
   ]
  },
  {
   "cell_type": "markdown",
   "metadata": {},
   "source": [
    "## Configure fitting tool (DEAP)"
   ]
  },
  {
   "cell_type": "code",
   "execution_count": 20,
   "metadata": {
    "collapsed": true
   },
   "outputs": [],
   "source": [
    "import deap\n",
    "import deap.gp\n",
    "import deap.benchmarks\n",
    "from deap import base\n",
    "from deap import creator\n",
    "from deap import tools\n",
    "from deap import algorithms"
   ]
  },
  {
   "cell_type": "code",
   "execution_count": 21,
   "metadata": {
    "collapsed": true
   },
   "outputs": [],
   "source": [
    "import random\n",
    "random.seed(1)"
   ]
  },
  {
   "cell_type": "code",
   "execution_count": 22,
   "metadata": {
    "collapsed": true
   },
   "outputs": [],
   "source": [
    "target_features = ['voltage_base', 'inv_time_to_first_spike', 'inv_first_ISI', 'Spikecount', 'AHP_depth']\n",
    "reference_data = dict((k, v) for k, v in features_original_model[0].items() if k in target_features)"
   ]
  },
  {
   "cell_type": "code",
   "execution_count": 23,
   "metadata": {
    "collapsed": true
   },
   "outputs": [],
   "source": [
    "# Population size\n",
    "POP_SIZE = 100\n",
    "# Number of offspring in every generation\n",
    "OFFSPRING_SIZE = 100\n",
    "\n",
    "# Number of generations\n",
    "NGEN = 100\n",
    "\n",
    "# The parent and offspring population size are set the same\n",
    "MU = OFFSPRING_SIZE\n",
    "LAMBDA = OFFSPRING_SIZE\n",
    "# Crossover probability\n",
    "CXPB = 0.7\n",
    "# Mutation probability, should sum to one together with CXPB\n",
    "MUTPB = 0.3\n",
    "\n",
    "# Eta parameter of cx and mut operators\n",
    "ETA = 10.0"
   ]
  },
  {
   "cell_type": "code",
   "execution_count": 24,
   "metadata": {
    "collapsed": true
   },
   "outputs": [],
   "source": [
    "parameters = {'tau_refrac': [0.1, 10.0], 'a': [0.0, 50.0], 'tau_m': [1.0, 50.0],\n",
    "              'cm': [0.1, 10.0], 'delta_T': [0.1, 10.0], 'v_thresh': [-70.0, -41.0],\n",
    "              'b': [0.0, 1.0], 'v_reset': [-80.0, -50.0], 'tau_w': [10.0, 1000.0],\n",
    "              'v_rest': [-80.0, -50.0]}\n",
    "parameter_names = parameters.keys()\n",
    "parameter_names.sort()"
   ]
  },
  {
   "cell_type": "code",
   "execution_count": 25,
   "metadata": {
    "collapsed": true
   },
   "outputs": [],
   "source": [
    "IND_SIZE = len(parameters)\n",
    "LOWER = [parameters[name][0] for name in parameter_names]\n",
    "UPPER = [parameters[name][1] for name in parameter_names]"
   ]
  },
  {
   "cell_type": "code",
   "execution_count": 26,
   "metadata": {
    "collapsed": true
   },
   "outputs": [],
   "source": [
    "SELECTOR = \"NSGA2\"\n",
    "creator.create(\"Fitness\", base.Fitness, weights=[-1.0] * len(target_features))\n",
    "creator.create(\"Individual\", list, fitness=creator.Fitness)"
   ]
  },
  {
   "cell_type": "code",
   "execution_count": 27,
   "metadata": {
    "collapsed": true
   },
   "outputs": [],
   "source": [
    "def uniform(lower_list, upper_list, dimensions):\n",
    "    \"\"\"Fill array \"\"\"\n",
    "\n",
    "    if hasattr(lower_list, '__iter__'):\n",
    "        return [random.uniform(lower, upper) for lower, upper in\n",
    "                zip(lower_list, upper_list)]\n",
    "    else:\n",
    "        return [random.uniform(lower_list, upper_list)\n",
    "                for _ in range(dimensions)]"
   ]
  },
  {
   "cell_type": "code",
   "execution_count": 28,
   "metadata": {
    "collapsed": true
   },
   "outputs": [],
   "source": [
    "toolbox = base.Toolbox()\n",
    "toolbox.register(\"uniformparams\", uniform, LOWER, UPPER, IND_SIZE)\n",
    "toolbox.register(\n",
    "    \"Individual\",\n",
    "    tools.initIterate,\n",
    "    creator.Individual,\n",
    "    toolbox.uniformparams)\n",
    "toolbox.register(\"population\", tools.initRepeat, list, toolbox.Individual)"
   ]
  },
  {
   "cell_type": "code",
   "execution_count": 29,
   "metadata": {
    "collapsed": true
   },
   "outputs": [],
   "source": [
    "def calc_errors(sim_data, reference_data):\n",
    "    errors = []\n",
    "    for k in sim_data:\n",
    "        a = sim_data[k]\n",
    "        b = reference_data[k]\n",
    "        assert b is not None, \"reference_data contains None: %s\" % k\n",
    "        if a is None: # missing features\n",
    "            err = 10  # penalty should be defined elsewhere, and depend on feature\n",
    "        elif isinstance(b, (int, float)):\n",
    "            a = a[0]\n",
    "            err = abs(a - b)\n",
    "        else:\n",
    "            L = min(len(a), len(b))\n",
    "            err = np.abs(a[:L] - b[:L]).mean()\n",
    "        errors.append(err)\n",
    "    return errors"
   ]
  },
  {
   "cell_type": "code",
   "execution_count": 30,
   "metadata": {
    "collapsed": true
   },
   "outputs": [],
   "source": [
    "def build_evaluate(cell, reference_data):\n",
    "    def evaluate(individual):\n",
    "        parameters = dict((k,v) for k,v in zip(parameter_names, individual))\n",
    "        try:\n",
    "            vm, spike_times = run(sim, cell, parameters)\n",
    "        except Exception as err:\n",
    "            # log error message\n",
    "            return [100]*len(reference_data)\n",
    "        # add fake spikes\n",
    "        spike_indices = (spike_times/vm.sampling_period).magnitude.astype(int)\n",
    "        vm[spike_indices] = 0.0*mV\n",
    "        feature_names = reference_data.keys()\n",
    "        features_adexp = features(vm.times, vm, (700, 2700), feature_names)\n",
    "        return calc_errors(features_adexp[0], reference_data)\n",
    "    return evaluate"
   ]
  },
  {
   "cell_type": "code",
   "execution_count": 31,
   "metadata": {
    "collapsed": false
   },
   "outputs": [],
   "source": [
    "evaluate = build_evaluate(cell, reference_data)"
   ]
  },
  {
   "cell_type": "code",
   "execution_count": 32,
   "metadata": {
    "collapsed": false
   },
   "outputs": [],
   "source": [
    "test_params = uniform(LOWER, UPPER, IND_SIZE)"
   ]
  },
  {
   "cell_type": "code",
   "execution_count": 33,
   "metadata": {
    "collapsed": false
   },
   "outputs": [
    {
     "data": {
      "text/plain": [
       "[6.718212205620061,\n",
       " 0.8474337369372327,\n",
       " 7.661368727868479,\n",
       " 2.6251833548202748,\n",
       " 25.276319267505105,\n",
       " 4.549961541408507,\n",
       " 655.0770429955353,\n",
       " -56.338299465934604,\n",
       " -77.18421239677295,\n",
       " -69.17792318086181]"
      ]
     },
     "execution_count": 33,
     "metadata": {},
     "output_type": "execute_result"
    }
   ],
   "source": [
    "test_params"
   ]
  },
  {
   "cell_type": "code",
   "execution_count": 34,
   "metadata": {
    "collapsed": false
   },
   "outputs": [
    {
     "name": "stdout",
     "output_type": "stream",
     "text": [
      "['AHP_depth', 'inv_first_ISI', 'voltage_base', 'inv_time_to_first_spike', 'Spikecount']\n",
      "/home/docker/env/neurosci/local/lib/python2.7/site-packages/efel/api.py:319: RuntimeWarning: Error while calculating feature AHP_depth: \n",
      " Two spikes required for calculation of all_ISI_values.\n",
      "\n",
      "Feature [all_ISI_values] is missing\n",
      "\n",
      "Voltage never goes below or above threshold in spike detection.\n",
      "\n",
      " At least one spike required for calculation of min_AHP_indices.\n",
      "\n",
      "Feature [min_AHP_values] is missing\n",
      "\n"
     ]
    },
    {
     "data": {
      "text/plain": [
       "[10, 11.0, 15.197568389033368, 6.2375997954149796, 8.4317032040453004]"
      ]
     },
     "execution_count": 34,
     "metadata": {},
     "output_type": "execute_result"
    }
   ],
   "source": [
    "print(reference_data.keys())\n",
    "evaluate(test_params)"
   ]
  },
  {
   "cell_type": "code",
   "execution_count": 35,
   "metadata": {
    "collapsed": true
   },
   "outputs": [],
   "source": [
    "toolbox.register(\"evaluate\", evaluate)"
   ]
  },
  {
   "cell_type": "code",
   "execution_count": 36,
   "metadata": {
    "collapsed": true
   },
   "outputs": [],
   "source": [
    "toolbox.register(\n",
    "    \"mate\",\n",
    "    deap.tools.cxSimulatedBinaryBounded,\n",
    "    eta=ETA,\n",
    "    low=LOWER,\n",
    "    up=UPPER)\n",
    "toolbox.register(\"mutate\", deap.tools.mutPolynomialBounded, eta=ETA,\n",
    "                 low=LOWER, up=UPPER, indpb=0.1)"
   ]
  },
  {
   "cell_type": "code",
   "execution_count": 37,
   "metadata": {
    "collapsed": true
   },
   "outputs": [],
   "source": [
    "toolbox.register(\n",
    "    \"select\",\n",
    "    tools.selNSGA2)"
   ]
  },
  {
   "cell_type": "markdown",
   "metadata": {},
   "source": [
    "## Run the fitting procedure"
   ]
  },
  {
   "cell_type": "code",
   "execution_count": 38,
   "metadata": {
    "collapsed": true
   },
   "outputs": [],
   "source": [
    "pop = toolbox.population(n=MU)"
   ]
  },
  {
   "cell_type": "code",
   "execution_count": null,
   "metadata": {
    "collapsed": false
   },
   "outputs": [],
   "source": [
    "stats = [tools.Statistics(key=lambda ind: ind.fitness.values[i])\n",
    "         for i in range(len(reference_data))]\n",
    "mstats = tools.MultiStatistics(obj1=stats[0], obj2=stats[1], obj3=stats[2], obj4=stats[3], obj5=stats[4])\n",
    "mstats.register(\"min\", np.min, axis=0)"
   ]
  },
  {
   "cell_type": "code",
   "execution_count": null,
   "metadata": {
    "collapsed": false
   },
   "outputs": [
    {
     "name": "stdout",
     "output_type": "stream",
     "text": [
      "/home/docker/env/neurosci/local/lib/python2.7/site-packages/efel/api.py:319: RuntimeWarning: Error while calculating feature AHP_depth: \n",
      " Two spikes required for calculation of all_ISI_values.\n",
      "\n",
      "Feature [all_ISI_values] is missing\n",
      "\n",
      " One spike required for time_to_first_spike.\n",
      "\n",
      "Feature [time_to_first_spike] is missing\n",
      "\n",
      "Voltage never goes below or above threshold in spike detection.\n",
      "\n",
      " At least one spike required for calculation of min_AHP_indices.\n",
      "\n",
      "Feature [min_AHP_values] is missing\n",
      "\n",
      "/home/docker/env/neurosci/local/lib/python2.7/site-packages/efel/api.py:319: RuntimeWarning: Error while calculating feature AHP_depth: \n",
      " Two spikes required for calculation of all_ISI_values.\n",
      "\n",
      "Feature [all_ISI_values] is missing\n",
      "\n",
      " One spike required for time_to_first_spike.\n",
      "\n",
      "Feature [time_to_first_spike] is missing\n",
      "\n",
      " Two spikes required for calculation of all_ISI_values.\n",
      "\n",
      "Feature [all_ISI_values] is missing\n",
      "\n",
      "Voltage never goes below or above threshold in spike detection.\n",
      "\n",
      " At least one spike required for calculation of min_AHP_indices.\n",
      "\n",
      "Feature [min_AHP_values] is missing\n",
      "\n",
      "   \t      \t  obj1  \t  obj2  \t  obj3  \t  obj4  \t  obj5  \n",
      "   \t      \t--------\t--------\t--------\t--------\t--------\n",
      "gen\tnevals\tmin     \tmin     \tmin     \tmin     \tmin     \n",
      "0  \t100   \t0.261769\t0.261769\t0.261769\t0.261769\t0.261769\n"
     ]
    }
   ],
   "source": [
    "pop, logbook = algorithms.eaMuPlusLambda(\n",
    "        pop,\n",
    "        toolbox,\n",
    "        MU,\n",
    "        LAMBDA,\n",
    "        CXPB,\n",
    "        MUTPB,\n",
    "        NGEN,\n",
    "        mstats,\n",
    "        halloffame=None)"
   ]
  },
  {
   "cell_type": "code",
   "execution_count": null,
   "metadata": {
    "collapsed": false
   },
   "outputs": [],
   "source": [
    "type(pop[0])"
   ]
  },
  {
   "cell_type": "code",
   "execution_count": null,
   "metadata": {
    "collapsed": false
   },
   "outputs": [],
   "source": [
    "[ind.fitness.values for ind in pop[:5]]"
   ]
  },
  {
   "cell_type": "code",
   "execution_count": null,
   "metadata": {
    "collapsed": false
   },
   "outputs": [],
   "source": [
    "parameters = dict((k,v) for k,v in zip(parameter_names, pop[1]))\n",
    "vm, spike_times = run(sim, cell, parameters)\n",
    "spike_indices = (spike_times/vm.sampling_period).magnitude.astype(int)\n",
    "vm[spike_indices] = 0.0*mV"
   ]
  },
  {
   "cell_type": "code",
   "execution_count": null,
   "metadata": {
    "collapsed": false
   },
   "outputs": [],
   "source": [
    "plot(vm.times, vm, label=\"AdExp\")\n",
    "plot(time_orig, voltage_orig, label=\"NEURON\")\n",
    "plt.legend()"
   ]
  },
  {
   "cell_type": "code",
   "execution_count": null,
   "metadata": {
    "collapsed": true
   },
   "outputs": [],
   "source": []
  }
 ],
 "metadata": {
  "kernelspec": {
   "display_name": "Python 2",
   "language": "python",
   "name": "python2"
  },
  "language_info": {
   "codemirror_mode": {
    "name": "ipython",
    "version": 2
   },
   "file_extension": ".py",
   "mimetype": "text/x-python",
   "name": "python",
   "nbconvert_exporter": "python",
   "pygments_lexer": "ipython2",
   "version": "2.7.9"
  }
 },
 "nbformat": 4,
 "nbformat_minor": 0
}
